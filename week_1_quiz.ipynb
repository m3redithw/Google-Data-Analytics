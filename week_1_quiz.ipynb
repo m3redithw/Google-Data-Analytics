{
 "cells": [
  {
   "cell_type": "markdown",
   "id": "2525834f",
   "metadata": {},
   "source": [
    "## Data Integrity and Analytics objectives"
   ]
  },
  {
   "cell_type": "markdown",
   "id": "f301a265",
   "metadata": {},
   "source": [
    "1. Which of the following principles are key elements of data integrity? Select all that apply."
   ]
  },
  {
   "cell_type": "markdown",
   "id": "f497b564",
   "metadata": {},
   "source": [
    "- **Consistency**\n",
    "- **Trustworthiness**\n",
    "- **Accuracy**\n",
    "- Selectivity"
   ]
  },
  {
   "cell_type": "markdown",
   "id": "ebbd08c0",
   "metadata": {},
   "source": [
    "2. Which process do data analysts use to make data more organized and easier to read?"
   ]
  },
  {
   "cell_type": "markdown",
   "id": "9c423fe7",
   "metadata": {},
   "source": [
    "- Data transfer\n",
    "- Data uniformity \n",
    "- **Data manipulation**\n",
    "- Data replication "
   ]
  },
  {
   "cell_type": "markdown",
   "id": "f670a85c",
   "metadata": {},
   "source": [
    "3. Before analysis, a company collects data from countries that use different date formats. Which of the following updates would improve the data integrity?"
   ]
  },
  {
   "cell_type": "markdown",
   "id": "a009a076",
   "metadata": {},
   "source": [
    "\n",
    "- **Change all of the dates to the same format**\n",
    "- Organize the data by country \n",
    "- Remove data in an unfamiliar date format\n",
    "- Leave the dates in their current formats "
   ]
  },
  {
   "cell_type": "markdown",
   "id": "260ce815",
   "metadata": {},
   "source": [
    "## Consider what you have learned about data insufficiency and the steps for how to avoid it:\n",
    "\n",
    "- Why are pre-cleaning steps important to complete prior to data cleaning?\n",
    "\n",
    "- What problems might occur if you don't follow these steps? "
   ]
  },
  {
   "cell_type": "markdown",
   "id": "971d8ec5",
   "metadata": {},
   "source": [
    "A good reflection on this topic would include how pre-cleaning activities are important because they **increase the efficiency and success of your data analysis tasks.**\n",
    "\n",
    "If you know that your data is accurate, consistent, and complete, you can be confident that your results will be valid. Stakeholders will be pleased if you connect the data to business objectives. And, knowing when to stop collecting data will allow you to finish your tasks in a timely manner without sacrificing data integrity.\n",
    "\n",
    "Suppose that you didn't determine data integrity. You may find that you are working with inaccurate or missing data, which can cause misleading results in your analysis. If you don’t connect objectives with the data, your analysis may not be relevant to the stakeholders. Finally, not understanding when to stop collecting data can lead to unnecessary delays in completing tasks. By completing pre-cleaning activities, you avoid these problems."
   ]
  },
  {
   "cell_type": "markdown",
   "id": "7b69efbc",
   "metadata": {},
   "source": [
    "## Test your knowledge on insufficient data"
   ]
  },
  {
   "cell_type": "markdown",
   "id": "87713b43",
   "metadata": {},
   "source": [
    "1. What should an analyst do if they do not have the data needed to meet a business objective? Select all that apply.\n",
    "\n",
    "\n",
    "- Continue with the analysis using data from less reliable sources.\n",
    "\n",
    "\n",
    "- **Gather related data on a small scale and request additional time to find more complete data.**\n",
    "\n",
    "    If an analyst does not have the data needed to meet a business objective, they should gather related data on a small scale and request additional time. Then, they can find more complete data or perform the analysis by finding and using proxy data from other datasets.\n",
    "\n",
    "\n",
    "- **Perform the analysis by finding and using proxy data from other datasets.** \n",
    "\n",
    "    If an analyst does not have the data needed to meet a business objective, they should gather related data on a small scale and request additional time. Then, they can find more complete data or perform the analysis by finding and using proxy data from other datasets.\n",
    "\n",
    "\n",
    "- Create and use hypothetical data that aligns with analysis predictions."
   ]
  },
  {
   "cell_type": "markdown",
   "id": "9549f376",
   "metadata": {},
   "source": [
    "2. Which of the following are limitations that might lead to insufficient data? Select all that apply."
   ]
  },
  {
   "cell_type": "markdown",
   "id": "841b4b2b",
   "metadata": {},
   "source": [
    "- **Outdated data**\n",
    "\n",
    "    Limitations that might lead to insufficient data include data that updates continually, outdated data, and data from a single source.\n",
    "\n",
    "\n",
    "- Duplicate data\n",
    "\n",
    "\n",
    "- **Data from a single source**\n",
    "\n",
    "    Limitations that might lead to insufficient data include data that updates continually, outdated data, and data from a single source.\n",
    "\n",
    "\n",
    "- **Data that updates continually**\n",
    "\n",
    "    Limitations that might lead to insufficient data include data that updates continually, outdated data, and data from a single source.\n",
    "\n"
   ]
  },
  {
   "cell_type": "markdown",
   "id": "f8e4ad61",
   "metadata": {},
   "source": [
    "3. A data analyst wants to find out how many people in Utah have swimming pools. It’s unlikely that they can survey every Utah resident. Instead, they survey enough people to be representative of the population. This describes what data analytics concept?\n",
    "\n",
    "\n",
    "- Confidence level\n",
    "\n",
    "\n",
    "- Margin of error\n",
    "\n",
    "\n",
    "- **Sample**\n",
    "\n",
    "\n",
    "- Statistical significance"
   ]
  },
  {
   "cell_type": "markdown",
   "id": "6dedba06",
   "metadata": {},
   "source": [
    "## Test your knowledge on testing your data\n",
    "1. A research team runs an experiment to determine if a new security system is more effective than the previous version. What type of results are required for the experiment to be statistically significant?\n",
    "- Results that are unlikely to occur again\n",
    "\n",
    "\n",
    "- Results that are inaccurate and should be ignored\n",
    "\n",
    "\n",
    "- **Results that are real and not caused by random chance**\n",
    "\n",
    "    In order for an experiment to be statistically significant, the results should be real and not caused by random chance.\n",
    "    \n",
    "\n",
    "- Results that are hypothetical and in need of more testing\n",
    "\n",
    "\n",
    "\n"
   ]
  },
  {
   "cell_type": "markdown",
   "id": "89372757",
   "metadata": {},
   "source": [
    "2. In order to have a high confidence level in a customer survey, what should the sample size accurately reflect?\n",
    "- The most valuable members of the population\n",
    "\n",
    "\n",
    "- **The entire population**\n",
    "\n",
    "    In order to have a high confidence level in a customer survey, the sample size should accurately reflect the entire population.\n",
    "\n",
    "\n",
    "- The predictions of stakeholders\n",
    "\n",
    "\n",
    "- The trends from other customer surveys \n",
    "\n",
    "\n"
   ]
  },
  {
   "cell_type": "markdown",
   "id": "ab217748",
   "metadata": {},
   "source": [
    "3. A data analyst determines an appropriate sample size for a survey. They can check their work by making sure the confidence level percentage plus the margin of error percentage add up to 100%.\n",
    "- True\n",
    "\n",
    "\n",
    "- **False**\n",
    "\n",
    "    The confidence level percentage and margin of error percentage do not have to add up to 100%. They are independent of each other."
   ]
  },
  {
   "cell_type": "markdown",
   "id": "3d58b9c2",
   "metadata": {},
   "source": [
    "## Test your knowledge on margin of error\n",
    "\n",
    "1. Fill in the blank: Margin of error is the _____ amount that the sample results are expected to differ from those of the actual population.\n",
    "- minimum\n",
    "\n",
    "\n",
    "- median\n",
    "\n",
    "\n",
    "- **maximum**\n",
    "\n",
    "    Margin of error is the maximum amount that the sample results are expected to differ from those of the actual population. \n",
    "\n",
    "- average\n",
    "\n"
   ]
  },
  {
   "cell_type": "markdown",
   "id": "0f6d4f2c",
   "metadata": {},
   "source": [
    "2. In a survey about a new cleaning product, 75% of respondents report they would buy the product again. The margin of error for the survey is 5%. Based on the margin of error, what percentage range reflects the population's true response? \n",
    "\n",
    "\n",
    "- Between 70% and 75%\n",
    "\n",
    "\n",
    "- Between 73% and 78%\n",
    "\n",
    "\n",
    "- Between 75% and 80%\n",
    "\n",
    "\n",
    "- **Between 70% and 80%**"
   ]
  },
  {
   "cell_type": "markdown",
   "id": "2b33e1f0",
   "metadata": {},
   "source": [
    "## Weekly challenge 1\n",
    "1. Fill in the blank: Data _____ refers to the accuracy, completeness, consistency, and trustworthiness of data throughout its life cycle.\n",
    "- **integrity**\n",
    "\n",
    "\n",
    "- replication\n",
    "\n",
    "\n",
    "- sampling\n",
    "\n",
    "\n",
    "- analysis"
   ]
  },
  {
   "cell_type": "markdown",
   "id": "f077d37d",
   "metadata": {},
   "source": [
    "2. A financial analyst imports a dataset to their computer from a storage device. As it’s being imported, the connection is interrupted, which compromises the data. Which of the following processes caused the compromise?\n",
    "- Data manipulation\n",
    "\n",
    "\n",
    "- Data gathering\n",
    "\n",
    "\n",
    "- **Data transfer**\n",
    "\n",
    "\n",
    "- Data analysis"
   ]
  },
  {
   "cell_type": "markdown",
   "id": "95af39aa",
   "metadata": {},
   "source": [
    "3. A data analyst is given a dataset for analysis. It includes data about the total population of every country in the previous 20 years. Based on the available data, an analyst would be able to determine the reasons behind a certain country's population increase from 2016 to 2017.\n",
    "- True\n",
    "\n",
    "\n",
    "- **False**"
   ]
  },
  {
   "cell_type": "markdown",
   "id": "f4636cdb",
   "metadata": {},
   "source": [
    "4. A data analyst is given a dataset for analysis. To use the template for this dataset, click the link below and select “Use Template.” The analyst notices a limitation with the data in rows 8 and 9. What is the limitation?\n",
    "\n",
    "- Row 8 and row 9 show the wrong currency.\n",
    "\n",
    "\n",
    "- **Row 9 is a duplicate of row 8.**\n",
    "\n",
    "\n",
    "- Row 9 needs more data.\n",
    "\n",
    "\n",
    "- Row 8 is not in the correct format."
   ]
  },
  {
   "cell_type": "markdown",
   "id": "52cbf9ba",
   "metadata": {},
   "source": [
    "5. A data analyst at a nonprofit organization is working with a dataset about a summer fundraiser. Although they have a lot of useful data by the end of the month, they recognize that the data is insufficient. So, they decide to wait until the end of the season to begin working with the dataset. Which type of insufficient data does this example describe?\n",
    "\n",
    "- Geographically limited data\n",
    "\n",
    "\n",
    "- **Data that keeps updating**\n",
    "\n",
    "\n",
    "- Outdated data\n",
    "\n",
    "\n",
    "- Data from only one source"
   ]
  },
  {
   "cell_type": "markdown",
   "id": "9f634571",
   "metadata": {},
   "source": [
    "6. A car manufacturer wants to learn more about the brand preferences of electric car owners. There are millions of electric car owners in the world. Who should the company survey?\n",
    "- **A sample of all electric car owners**\n",
    "\n",
    "\n",
    "- A sample of car owners who have owned more than one electric car\n",
    "\n",
    "\n",
    "- A sample of car owners who most recently bought an electric car\n",
    "\n",
    "\n",
    "- The entire population of electric car owners\n",
    "\n"
   ]
  },
  {
   "cell_type": "markdown",
   "id": "7eb4858a",
   "metadata": {},
   "source": [
    "7. A restaurant gathers data about a new dish by providing free samples to parties of six or more diners. What does this scenario describe?\n",
    "- Unbiased sampling\n",
    "\n",
    "\n",
    "- Random sampling\n",
    "\n",
    "\n",
    "- Geographically limited sampling\n",
    "\n",
    "\n",
    "- **Sampling bias**"
   ]
  },
  {
   "cell_type": "markdown",
   "id": "346f6178",
   "metadata": {},
   "source": [
    "8. Sometimes during analysis, an analyst discovers that it’s necessary to adjust the business objective. When this happens, the analyst should take the initiative to do so without involving others in order to be respectful of their time.\n",
    "- True\n",
    "\n",
    "\n",
    "- **False**"
   ]
  }
 ],
 "metadata": {
  "kernelspec": {
   "display_name": "Python 3 (ipykernel)",
   "language": "python",
   "name": "python3"
  },
  "language_info": {
   "codemirror_mode": {
    "name": "ipython",
    "version": 3
   },
   "file_extension": ".py",
   "mimetype": "text/x-python",
   "name": "python",
   "nbconvert_exporter": "python",
   "pygments_lexer": "ipython3",
   "version": "3.9.12"
  }
 },
 "nbformat": 4,
 "nbformat_minor": 5
}
