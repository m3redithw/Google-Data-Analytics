{
 "cells": [
  {
   "cell_type": "markdown",
   "id": "320db258",
   "metadata": {},
   "source": [
    "## Explore data and R\n",
    "#### Data frame\n",
    "A collection of columns\n",
    "\n",
    "- Columns should be named\n",
    "- Data stored can be many different types, like numeric, factor, or character\n",
    "- Each column should contain the same number of data items\n",
    "\n",
    "#### Tibbles\n",
    "Tibbles are like streamlined data frames\n",
    "\n",
    "- Never change the data types of the inputs\n",
    "- Never change the names of your variables\n",
    "- Never create row names\n",
    "- Make printing easier"
   ]
  }
 ],
 "metadata": {
  "kernelspec": {
   "display_name": "Python 3 (ipykernel)",
   "language": "python",
   "name": "python3"
  },
  "language_info": {
   "codemirror_mode": {
    "name": "ipython",
    "version": 3
   },
   "file_extension": ".py",
   "mimetype": "text/x-python",
   "name": "python",
   "nbconvert_exporter": "python",
   "pygments_lexer": "ipython3",
   "version": "3.9.12"
  }
 },
 "nbformat": 4,
 "nbformat_minor": 5
}
