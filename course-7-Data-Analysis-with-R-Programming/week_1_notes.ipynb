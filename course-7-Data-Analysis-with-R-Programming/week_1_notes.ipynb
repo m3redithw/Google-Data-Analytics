{
 "cells": [
  {
   "cell_type": "markdown",
   "id": "e667a393",
   "metadata": {},
   "source": [
    "## Programming languages\n",
    "- Clarify the steps of your analysis\n",
    "- Saves time\n",
    "- Reproduce and share your work\n"
   ]
  },
  {
   "cell_type": "markdown",
   "id": "1a96623e",
   "metadata": {},
   "source": [
    "## R\n",
    "A programming language frequently used for statistical analysis, visualization, and other data analysis\n",
    "\n",
    "Developed by Ross Oaxaca and Robert Gentleman in the 1990s. R refers to the first name of 2 authors.\n",
    "\n",
    "- Accessible\n",
    "- Data-centric\n",
    "- Open source\n",
    "- Community\n",
    "\n",
    "#### 3 scenarios for data analysis:\n",
    "- Reproducing your analysis\n",
    "- Processing lots of data\n",
    "- Creating data visualizations"
   ]
  },
  {
   "cell_type": "markdown",
   "id": "48b6f874",
   "metadata": {},
   "source": [
    "## R Console\n",
    "\n",
    "Downloading and installing R is very helpful for flexible programming, as you won’t have to use an online client.\n",
    "\n",
    "You can use R for a variety of analytical and mathematical processes, which are crucial to your future duties as a data analyst. The more you become familiar with R and how to use it, the more prepared you will be for any data analysis problem that comes your way.\n",
    "\n",
    "Learning how to use the R Console and other R programming environments is fundamental to performing data analysis.\n",
    "\n",
    "The R console is a simple environment in which you can write single lines of R code. It won’t save your code beyond a single session, but it is very valuable for running simple functions. In upcoming activities, you will use RStudio, an interactive development environment that builds on the simplicity of the R console."
   ]
  },
  {
   "cell_type": "code",
   "execution_count": null,
   "id": "30b6fbd4",
   "metadata": {},
   "outputs": [],
   "source": []
  },
  {
   "cell_type": "code",
   "execution_count": null,
   "id": "b3083f60",
   "metadata": {},
   "outputs": [],
   "source": []
  },
  {
   "cell_type": "code",
   "execution_count": null,
   "id": "472a7f62",
   "metadata": {},
   "outputs": [],
   "source": []
  },
  {
   "cell_type": "code",
   "execution_count": null,
   "id": "20bf534e",
   "metadata": {},
   "outputs": [],
   "source": []
  },
  {
   "cell_type": "code",
   "execution_count": null,
   "id": "e88059b2",
   "metadata": {},
   "outputs": [],
   "source": []
  }
 ],
 "metadata": {
  "kernelspec": {
   "display_name": "Python 3 (ipykernel)",
   "language": "python",
   "name": "python3"
  },
  "language_info": {
   "codemirror_mode": {
    "name": "ipython",
    "version": 3
   },
   "file_extension": ".py",
   "mimetype": "text/x-python",
   "name": "python",
   "nbconvert_exporter": "python",
   "pygments_lexer": "ipython3",
   "version": "3.9.12"
  }
 },
 "nbformat": 4,
 "nbformat_minor": 5
}
