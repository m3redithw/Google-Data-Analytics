{
 "cells": [
  {
   "cell_type": "markdown",
   "id": "3ac2c982",
   "metadata": {},
   "source": [
    "# Clean it up!\n",
    "### Dirty data\n",
    "Data that is incomplete, incorrect, or irrelevent to the problem you're trying to solve"
   ]
  },
  {
   "cell_type": "markdown",
   "id": "4d3e3a00",
   "metadata": {},
   "source": [
    "### Clean data\n",
    "Data that is complete, correct, and relevant to the problem you're trying to solve"
   ]
  },
  {
   "cell_type": "markdown",
   "id": "e6bb2fab",
   "metadata": {},
   "source": [
    "### Data engineers\n",
    "Transform data into a useful format for analysis and give it a reliable infrastructure"
   ]
  },
  {
   "cell_type": "markdown",
   "id": "baff0299",
   "metadata": {},
   "source": [
    "### Null\n",
    "An indication that a value does not exist in a dataset"
   ]
  },
  {
   "cell_type": "markdown",
   "id": "3a330584",
   "metadata": {},
   "source": [
    "# Recognize and remedy dirty data\n",
    "### Data validation\n",
    "A tool for checking the accuracy and quality of data before adding or importing it"
   ]
  },
  {
   "cell_type": "markdown",
   "id": "5a74164b",
   "metadata": {},
   "source": [
    "### Field\n",
    "A single piece of information from a row or column of a spreadsheet\n",
    "\n",
    "### Field length\n",
    "A tool for determining how many characters can be keyed into a field"
   ]
  },
  {
   "cell_type": "markdown",
   "id": "336a464c",
   "metadata": {},
   "source": [
    "# Different data perspectives\n",
    "### Sorting\n",
    "Arranging data into a meaningful order to make if easier to understand, analyze, and visualize\n",
    "\n",
    "### Filtering\n",
    "Showing only the data that meets a specific criteria while hiding the rest\n",
    "\n",
    "### Pivot table\n",
    "A data summarization tool that is used in data processing\n"
   ]
  },
  {
   "cell_type": "markdown",
   "id": "629e5d4e",
   "metadata": {},
   "source": [
    "# More data-cleaning techniques\n",
    "### Data mapping\n",
    "The process of matching fields from one data source to another\n",
    "\n",
    "### Compatibility\n",
    "How well two or more datasets are able to work together\n",
    "\n",
    "### Data cleaning toos\n",
    "- Data validation\n",
    "- Conditional formatting\n",
    "- COUNTIF\n",
    "- Sorting\n",
    "- Filtering"
   ]
  }
 ],
 "metadata": {
  "kernelspec": {
   "display_name": "Python 3 (ipykernel)",
   "language": "python",
   "name": "python3"
  },
  "language_info": {
   "codemirror_mode": {
    "name": "ipython",
    "version": 3
   },
   "file_extension": ".py",
   "mimetype": "text/x-python",
   "name": "python",
   "nbconvert_exporter": "python",
   "pygments_lexer": "ipython3",
   "version": "3.9.12"
  }
 },
 "nbformat": 4,
 "nbformat_minor": 5
}
