{
 "cells": [
  {
   "cell_type": "markdown",
   "id": "0f2f95cd",
   "metadata": {},
   "source": [
    "## Test your knowledge on clean versus dirty data\n",
    "1. Describe the difference between a null and a zero in a dataset.\n",
    "- A null represents a number with no significance. A zero represents the number zero.\n",
    "\n",
    "\n",
    "- A null represents a value of zero. A zero represents an empty cell.\n",
    "\n",
    "\n",
    "- **A null indicates that a value does not exist. A zero is a numerical response.**\n",
    "\n",
    "\n",
    "- A null signifies invalid data. A zero is missing data.\n",
    "\n"
   ]
  },
  {
   "cell_type": "markdown",
   "id": "c2704a2a",
   "metadata": {},
   "source": [
    "2. What are the most common processes and procedures handled by data engineers? Select all that apply.\n",
    "\n",
    "\n",
    "- **Developing, maintaining, and testing databases and related systems**\n",
    "\n",
    "\n",
    "\n",
    "- **Giving data a reliable infrastructure**\n",
    "\n",
    "\n",
    "\n",
    "- Verifying results of data analysis\n",
    "\n",
    "\n",
    "- **Transforming data into a useful format for analysis**"
   ]
  },
  {
   "cell_type": "markdown",
   "id": "d8f816f4",
   "metadata": {},
   "source": [
    "3. What are the most common processes and procedures handled by data warehousing specialists? Select all that apply.\n",
    "\n",
    "\n",
    "- **Ensuring data is secure**\n",
    "\n",
    "\n",
    "\n",
    "- **Ensuring data is available**\n",
    "\n",
    "\n",
    "\n",
    "- **Ensuring data is backed up to prevent loss**\n",
    "\n",
    "\n",
    "- Ensuring data is properly cleaned"
   ]
  },
  {
   "cell_type": "markdown",
   "id": "4ba27483",
   "metadata": {},
   "source": [
    "4. A data analyst is cleaning a dataset. They want to confirm that users entered five-digit zip codes correctly by checking the data in a certain spreadsheet column. What would be most helpful as the next step?\n",
    "\n",
    "\n",
    "- Using the MAX function to determine the maximum value in the cells in the column\n",
    "\n",
    "\n",
    "- Formatting the cells in the column as number \n",
    "\n",
    "\n",
    "- Changing the column width to fit only five digits \n",
    "\n",
    "\n",
    "- **Using the field length tool to specify the number of characters in each cell in the column**\n"
   ]
  },
  {
   "cell_type": "markdown",
   "id": "5b79e96d",
   "metadata": {},
   "source": [
    "## Cleaning data with spreadsheets\n",
    "\n",
    "In this activity, you practiced cleaning and transposing data. In the text box below, write 2-3 sentences (40-60 words) in response to each of the following questions:\n",
    "\n",
    "- What was the most challenging part of cleaning the data?\n",
    "\n",
    "- Why is cleaning and transposing data important for data analysis?\n",
    "\n",
    "- If you had to clean this data again, what would you do differently? Why?"
   ]
  },
  {
   "cell_type": "markdown",
   "id": "4e0c54c7",
   "metadata": {},
   "source": [
    "In this activity, you cleaned and transposed data on a spreadsheet. A good response would include that cleaning is a fundamental step in data science as it greatly increases the integrity of the data. \n",
    "\n",
    "Good data science results rely heavily on the reliability of the data. Data analysts clean data to make it more accurate and reliable. This is important for making sure that the projects you will work on as a data analyst are completed properly."
   ]
  },
  {
   "cell_type": "markdown",
   "id": "199ac6f2",
   "metadata": {},
   "source": [
    "## Test your knowledge on data-cleaning techniques"
   ]
  },
  {
   "cell_type": "markdown",
   "id": "b095ab16",
   "metadata": {},
   "source": [
    "1. Fill in the blank: Every database has its own formatting, which can cause the data to seem inconsistent. Data analysts use the _____ tool to create a clean and consistent visual appearance for their spreadsheets.\n",
    "\n",
    "- autocorrect\n",
    "\n",
    "\n",
    "- spellcheck\n",
    "\n",
    "\n",
    "- **clear formats**\n",
    "\n",
    "\n",
    "- conditional formatting"
   ]
  },
  {
   "cell_type": "markdown",
   "id": "1ddc7b77",
   "metadata": {},
   "source": [
    "2. What is the process of combining two or more datasets into a single dataset?\n",
    "\n",
    "- Data validation\n",
    "\n",
    "\n",
    "- Data transferring\n",
    "\n",
    "\n",
    "- **Data merging**\n",
    "\n",
    "\n",
    "- Data composition\n",
    "\n"
   ]
  },
  {
   "cell_type": "markdown",
   "id": "a1c46ab8",
   "metadata": {},
   "source": [
    "3. Fill in the blank: In data analytics, _____ describes how well two or more datasets are able to work together.\n",
    "- **compatibility**\n",
    "\n",
    "\n",
    "- suitability\n",
    "\n",
    "\n",
    "- agreement\n",
    "\n",
    "\n",
    "- alignment"
   ]
  },
  {
   "cell_type": "markdown",
   "id": "60b83576",
   "metadata": {},
   "source": [
    "## Weekly challenge 2\n",
    "1. Fill in the blank: Conditional formatting is a spreadsheet tool that changes how _____ appear when values meet a specific condition. \n",
    "\n",
    "- filters\n",
    "\n",
    "\n",
    "- charts\n",
    "\n",
    "\n",
    "- queries\n",
    "\n",
    "\n",
    "- **cells**"
   ]
  },
  {
   "cell_type": "markdown",
   "id": "aea8b9dd",
   "metadata": {},
   "source": [
    "2. A delimiter is a character that indicates the beginning or end of a data item. The split text to columns tool uses a delimiter to accomplish what task?\n",
    "- To split one column into two\n",
    "\n",
    "\n",
    "- To split duplicate substrings\n",
    "\n",
    "\n",
    "- **To specify where to split a text string**\n",
    "\n",
    "\n",
    "- To change the format of a column of text "
   ]
  },
  {
   "cell_type": "markdown",
   "id": "310e17ac",
   "metadata": {},
   "source": [
    "3. Fill in the blank: When describing a SUM function, the _____ is =SUM(value 1 through value 2).\n",
    "- structure\n",
    "\n",
    "\n",
    "- standard\n",
    "\n",
    "\n",
    "- script\n",
    "\n",
    "\n",
    "- **syntax**"
   ]
  },
  {
   "cell_type": "markdown",
   "id": "4d644612",
   "metadata": {},
   "source": [
    "4. In order to extract the five-digit postal code from Burlington, MA, what is the correct function?\n",
    "- **=RIGHT(B3,5)**\n",
    "\n",
    "\n",
    "- =LEFT(B3,5)\n",
    "\n",
    "\n",
    "- =RIGHT(5,B3)\n",
    "\n",
    "\n",
    "- =LEFT(5,B3)"
   ]
  },
  {
   "cell_type": "markdown",
   "id": "224dec0a",
   "metadata": {},
   "source": [
    "5. They want to create employee identification numbers (IDs) in column D. The IDs should include the year hired plus the last four digits of the employee’s Social Security Number (SS#). What function will create the ID 20201939 for the employee in row 4?\n",
    "- =CONCATENATE (A4+B4)\n",
    "\n",
    "\n",
    "- =CONCATENATE(A4!B4)\n",
    "\n",
    "\n",
    "- =CONCATENATE(A4*B4)\n",
    "\n",
    "\n",
    "- **=CONCATENATE(A4,B4)**"
   ]
  },
  {
   "cell_type": "markdown",
   "id": "f949bb98",
   "metadata": {},
   "source": [
    "6. An analyst is cleaning a new dataset containing 500 rows. They want to make sure the data contained from cell B2 through cell B300 does not contain a number greater than 50. Which of the following COUNTIF function syntaxes could be used to answer this question? Select all that apply.\n",
    "- **=COUNTIF(B2:B300,\">50\")**\n",
    "\n",
    "\n",
    "- **=COUNTIF(B2:B300,”<=50”)**\n",
    "\n",
    "\n",
    "- =COUNTIF(B2:B300,>50)\n",
    "\n",
    "\n",
    "- =COUNTIF(B2:B300,<=50)"
   ]
  },
  {
   "cell_type": "markdown",
   "id": "f0225194",
   "metadata": {},
   "source": [
    "7. The V in VLOOKUP stands for what?\n",
    "- Virtual\n",
    "\n",
    "\n",
    "- Visual\n",
    "\n",
    "\n",
    "- Variable\n",
    "\n",
    "\n",
    "- **Vertical**\n"
   ]
  },
  {
   "cell_type": "markdown",
   "id": "cd508b33",
   "metadata": {},
   "source": [
    "8. Fill in the blank: Data mapping is the process of _____ fields from one data source to another.\n",
    "- **matching**\n",
    "\n",
    "\n",
    "- merging\n",
    "\n",
    "\n",
    "- linking\n",
    "\n",
    "\n",
    "- extracting"
   ]
  }
 ],
 "metadata": {
  "kernelspec": {
   "display_name": "Python 3 (ipykernel)",
   "language": "python",
   "name": "python3"
  },
  "language_info": {
   "codemirror_mode": {
    "name": "ipython",
    "version": 3
   },
   "file_extension": ".py",
   "mimetype": "text/x-python",
   "name": "python",
   "nbconvert_exporter": "python",
   "pygments_lexer": "ipython3",
   "version": "3.9.12"
  }
 },
 "nbformat": 4,
 "nbformat_minor": 5
}
