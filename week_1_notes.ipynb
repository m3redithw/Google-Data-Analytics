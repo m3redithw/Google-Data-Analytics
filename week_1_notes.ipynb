{
 "cells": [
  {
   "cell_type": "markdown",
   "id": "ef75fbf9",
   "metadata": {},
   "source": [
    "# Data integrity & analytics objective"
   ]
  },
  {
   "cell_type": "markdown",
   "id": "1f053dbf",
   "metadata": {},
   "source": [
    "### Data integrity\n",
    "The accuracy, completeness, consistency, and trustworthiness of data throughout its lifecycle"
   ]
  },
  {
   "cell_type": "markdown",
   "id": "fbe23aba",
   "metadata": {},
   "source": [
    "### Data replication\n",
    "The process of storing data in multiple locations\n",
    "\n",
    "**Data replication compromising data integrity:** Continuing with the example, imagine you ask your international counterparts to verify dates and stick to one format. One analyst copies a large dataset to check the dates. But because of memory issues, only part of the dataset is actually copied. The analyst would be verifying and standardizing incomplete data. That partial dataset would be certified as compliant but the full dataset would still contain dates that weren't verified. Two versions of a dataset can introduce inconsistent results. A final audit of results would be essential to reveal what happened and correct all dates. "
   ]
  },
  {
   "cell_type": "markdown",
   "id": "a1d1b3c5",
   "metadata": {},
   "source": [
    "### Data transfer\n",
    "The process of copying data form a sotrage device to memory, or from one computer to another\n",
    "\n",
    "**Data transfer compromising data integrity:** Another analyst checks the dates in a spreadsheet and chooses to import the validated and standardized data back to the database. But suppose the date field from the spreadsheet was incorrectly classified as a text field during the data import (transfer) process. Now some of the dates in the database are stored as text strings. At this point, the data needs to be cleaned to restore its integrity. "
   ]
  },
  {
   "cell_type": "markdown",
   "id": "f4d1bd37",
   "metadata": {},
   "source": [
    "### Data munipulation\n",
    "The process of changing data to make it more organized and easier to read\n",
    "\n",
    "**Data manipulation compromising data integrity:** When checking dates, another analyst notices what appears to be a duplicate record in the database and removes it. But it turns out that the analyst removed a unique record for a company’s subsidiary and not a duplicate record for the company. Your dataset is now missing data and the data must be restored for completeness.\n",
    "\n"
   ]
  },
  {
   "cell_type": "markdown",
   "id": "541b6fff",
   "metadata": {},
   "source": [
    "### Other threats to data integrity\n",
    "- Human error\n",
    "- Viruses\n",
    "- Malware\n",
    "- Hacking\n",
    "- System failures"
   ]
  },
  {
   "cell_type": "markdown",
   "id": "89d3a9e2",
   "metadata": {},
   "source": [
    "# Dealing with insufficient data"
   ]
  },
  {
   "cell_type": "markdown",
   "id": "68f02597",
   "metadata": {},
   "source": [
    "### Types of insufficient data \n",
    "- Data from only one source\n",
    "- Data that keeps updating\n",
    "- Outdated data\n",
    "- Geographically-limited data"
   ]
  },
  {
   "cell_type": "markdown",
   "id": "70972fbd",
   "metadata": {},
   "source": [
    "### Ways to address insufficient data\n",
    "- Identify trends with the available data\n",
    "- Wait for more data if time allows\n",
    "- Talk with stakeholders and adjust your objective\n",
    "- Look for a new dataset"
   ]
  },
  {
   "cell_type": "markdown",
   "id": "d8a4f8eb",
   "metadata": {},
   "source": [
    "# The importance of sample size"
   ]
  },
  {
   "cell_type": "markdown",
   "id": "863b75fd",
   "metadata": {},
   "source": [
    "### Population\n",
    "All possible data values in a certian dataset\n"
   ]
  },
  {
   "cell_type": "markdown",
   "id": "b593c67e",
   "metadata": {},
   "source": [
    "### Sample size\n",
    "A part of a population that is representative of the population"
   ]
  },
  {
   "cell_type": "markdown",
   "id": "644ea926",
   "metadata": {},
   "source": [
    "### Sampling bias\n",
    "A sample isn't representative of the population as a whole"
   ]
  },
  {
   "cell_type": "markdown",
   "id": "4b91b634",
   "metadata": {},
   "source": [
    "### Random sampling\n",
    "A way of selecting a sample from a population so that every possible type of the sample has an equal chance of being chosen"
   ]
  },
  {
   "cell_type": "markdown",
   "id": "34b935a7",
   "metadata": {},
   "source": [
    "### Margin of error\n",
    "Since a sample is used to represent a population, the sample’s results are expected to differ from what the result would have been if you had surveyed the entire population. This difference is called the margin of error. The smaller the margin of error, the closer the results of the sample are to what the result would have been if you had surveyed the entire population. "
   ]
  },
  {
   "cell_type": "markdown",
   "id": "9e4b0846",
   "metadata": {},
   "source": [
    "### Confidence level\n",
    "How confident you are in the survey results. For example, a 95% confidence level means that if you were to run the same survey 100 times, you would get similar results 95 of those 100 times. Confidence level is targeted before you start your study because it will affect how big your margin of error is at the end of your study. "
   ]
  },
  {
   "cell_type": "markdown",
   "id": "4019452e",
   "metadata": {},
   "source": [
    "### Confidence interval\n",
    "The range of possible values that the population’s result would be at the confidence level of the study. This range is the sample result +/- the margin of error."
   ]
  },
  {
   "cell_type": "markdown",
   "id": "fe148fe7",
   "metadata": {},
   "source": [
    "### Statistical significance\n",
    "The determination of whether your result could be due to random chance or not. The greater the significance, the less due to chance."
   ]
  },
  {
   "cell_type": "markdown",
   "id": "03c63a5c",
   "metadata": {},
   "source": [
    "### Things to remember when determining the size of your sample\n",
    "When figuring out a sample size, here are things to keep in mind:\n",
    "\n",
    "- Don’t use a sample size less than 30. It has been statistically proven that 30 is the smallest sample size where an average result of a sample starts to represent the average result of a population.\n",
    "\n",
    "    This recommendation is based on the **Central Limit Theorem (CLT)** in the field of probability and statistics. As sample size increases, the results more closely resemble the normal (bell-shaped) distribution from a large number of samples. A sample of 30 is the smallest sample size for which the CLT is still valid. Researchers who rely on regression analysis – statistical methods to determine the relationships between controlled and dependent variables – also prefer a minimum sample of 30.\n",
    "\n",
    "\n",
    "- The confidence level most commonly used is 95%, but 90% can work in some cases. \n",
    "\n",
    "Increase the sample size to meet specific needs of your project:\n",
    "\n",
    "- For a higher confidence level, use a larger sample size\n",
    "\n",
    "- To decrease the margin of error, use a larger sample size\n",
    "\n",
    "- For greater statistical significance, use a larger sample size"
   ]
  },
  {
   "cell_type": "markdown",
   "id": "b608d1c5",
   "metadata": {},
   "source": [
    "# Using statistical power\n"
   ]
  },
  {
   "cell_type": "markdown",
   "id": "a3ef0250",
   "metadata": {},
   "source": [
    "### Hypothesis testing\n",
    "A way to see if a survey or experiment has meanigful results\n",
    "\n",
    "\n",
    "If a test is statisticlaly significant, it means the results of the test are real and not an error caused by random chance\n",
    "\n",
    "Usually, you need a statistical power of at least zero point 8 or 80% to consider your results statistically significant"
   ]
  },
  {
   "cell_type": "markdown",
   "id": "9afa1dba",
   "metadata": {},
   "source": [
    "# What to do when there is no data\n",
    "### Proxy data examples\n",
    "Sometimes the data to support a business objective isn’t readily available. This is when proxy data is useful.\n",
    "- Business scenario:\n",
    "    A new car model was just launched a few days ago and the auto dealership can’t wait until the end of the month for sales data to come in. They want sales projections now.\n",
    "- How proxy data can be used\n",
    "    The analyst proxies the number of clicks to the car specifications on the dealership’s website as an estimate of potential sales at the dealership.\n",
    "\n",
    "### Open (public) datasets\n",
    "f you are part of a large organization, you might have access to lots of sources of data. But if you are looking for something specific or a little outside your line of business, you can also make use of open or public datasets. (You can refer to this Towards Data Science article for a brief explanation of the difference between open and public data.)\n",
    "\n",
    "### CSV, JSON, SQLite, and BigQuery datasets"
   ]
  },
  {
   "cell_type": "markdown",
   "id": "3f4487c2",
   "metadata": {},
   "source": [
    "# Evaluate the reliability of your data\n",
    "### To calculate margin of error\n",
    "- Population size\n",
    "- Sample size\n",
    "- Confidence level\n"
   ]
  }
 ],
 "metadata": {
  "kernelspec": {
   "display_name": "Python 3 (ipykernel)",
   "language": "python",
   "name": "python3"
  },
  "language_info": {
   "codemirror_mode": {
    "name": "ipython",
    "version": 3
   },
   "file_extension": ".py",
   "mimetype": "text/x-python",
   "name": "python",
   "nbconvert_exporter": "python",
   "pygments_lexer": "ipython3",
   "version": "3.9.12"
  }
 },
 "nbformat": 4,
 "nbformat_minor": 5
}
