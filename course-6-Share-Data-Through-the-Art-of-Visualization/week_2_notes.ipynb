{
 "cells": [
  {
   "cell_type": "markdown",
   "id": "58cab1bb",
   "metadata": {},
   "source": [
    "## Create a visualization in Tableau\n",
    "\n",
    "- #: Numeric data\n",
    "- Abc: String data\n",
    "- Globe: Geographic data\n",
    "- Calendar: Date data\n",
    "- Calendar with a clock: Data and time data"
   ]
  },
  {
   "cell_type": "markdown",
   "id": "b8d6f39b",
   "metadata": {},
   "source": [
    "## The good, the bad, and the ugly\n",
    "#### Diverging color palette\n",
    "Displays two ranges of values using color intensity to show the magnitude of the number and the actual color to show which range the number is from\n",
    "\n",
    "## What makes an effective visualization?\n",
    "#### Five-second rule:\n",
    "A data visualization should be **clear, effective, and convincing** enough to be absorbed in five seconds or less.\n",
    "\n",
    "#### Color contrast:\n",
    "Graphs and charts should use a **diverging color palette** to show contrast between elements.\n",
    "\n",
    "#### Conventions and expectations:\n",
    "Visuals and their organization should align with **audience expectations** and cultural conventions. For example, if the majority of your audience associates green with a positive concept and red with a negative one, your visualization should reflect this.\n",
    "\n",
    "#### Minimal labels:\n",
    "Titles, axes, and annotations should use as **few labels** as it takes to make sense. Having too many labels makes your graph or chart too busy. It takes up too much space and prevents the labels from being shown clearly.\n",
    "\n",
    "The first step to identifying appropriate visualizations is understanding what kind of data you are presenting, and that you should apply the four rules above to ensure the visualization has the biggest impact.\n",
    "\n",
    "After you understand the type of data (frequency, changes over time, categorical comparisons, etc.), then you must determine what your audience needs to see to understand your analysis. After that, find which graph or chart style fits your goal. Finally, utilize the visual design guidelines above to create an accessible and aesthetically pleasing data visualization."
   ]
  },
  {
   "cell_type": "markdown",
   "id": "2101bb0d",
   "metadata": {},
   "source": [
    "## Linking data in Tableau\n",
    "Linking data allows you to combine different features of multiple datasets without having to create a new dataset as you visualize comparisons and combinations of data.\n",
    "\n",
    "With Tableau and other visualization software, you can simplify the process of combining and visualizing data. Otherwise, you would need to select the information you need and create a new data source, which takes a lot of time. This simplified process will allow you to share more insights with your peers and stakeholders throughout your career as a data analyst."
   ]
  }
 ],
 "metadata": {
  "kernelspec": {
   "display_name": "Python 3 (ipykernel)",
   "language": "python",
   "name": "python3"
  },
  "language_info": {
   "codemirror_mode": {
    "name": "ipython",
    "version": 3
   },
   "file_extension": ".py",
   "mimetype": "text/x-python",
   "name": "python",
   "nbconvert_exporter": "python",
   "pygments_lexer": "ipython3",
   "version": "3.9.12"
  }
 },
 "nbformat": 4,
 "nbformat_minor": 5
}
