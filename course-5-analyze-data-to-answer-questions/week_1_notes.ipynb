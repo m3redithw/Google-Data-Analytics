{
 "cells": [
  {
   "cell_type": "markdown",
   "id": "a83d7d8a",
   "metadata": {},
   "source": [
    "## The analysis process\n",
    "The goal of analysis is to identify trends and relationships within data so you can accurately answer the question you're asking"
   ]
  },
  {
   "cell_type": "markdown",
   "id": "5cdd5c6d",
   "metadata": {},
   "source": [
    "### The 4 phases of analysis\n",
    "1. Organize data\n",
    "2. Format and adjust data\n",
    "3. Get input from others\n",
    "4. Transform data"
   ]
  },
  {
   "cell_type": "markdown",
   "id": "bd2c32af",
   "metadata": {},
   "source": [
    "## Always a need to organize\n",
    "**Sorting** and **filtering** are two ways you can keep things organized when you format and adjust data to work with it.\n",
    "\n",
    "For example, a filter can help you find errors or outliers so you can fix or flag them before your analysis. \n",
    "\n",
    "**Outliers** are data points that are very different from similarly collected data and might not be reliable values. The benefit of filtering the data is that after you fix errors or identify outliers, you can remove the filter and return the data to its original organization."
   ]
  },
  {
   "cell_type": "markdown",
   "id": "4d949225",
   "metadata": {},
   "source": [
    "#### Sorting versus filtering\n",
    "**Sorting** is when you arrange data into a meaningful order to make it easier to understand, analyze, and visualize. It ranks your data based on a specific metric you choose. You can sort data in spreadsheets, SQL databases (when your dataset is too large for spreadsheets), and tables in documents. \n",
    "\n",
    "For example, if you need to rank things or create chronological lists, you can sort by ascending or descending order. If you are interested in figuring out a group’s favorite movies, you might sort by movie title to figure it out. Sorting will arrange the data in a meaningful way and give you immediate insights. Sorting also helps you to group similar data together by a classification. For movies, you could sort by genre -- like action, drama, sci-fi, or romance.\n",
    "\n",
    "\n",
    "**Filtering** is used when you are only interested in seeing data that meets a specific criteria, and hiding the rest. Filtering is really useful when you have lots of data. You can save time by zeroing in on the data that is really important or the data that has bugs or errors. Most spreadsheets and SQL databases allow you to filter your data in a variety of ways. Filtering gives you the ability to find what you are looking for without too much effort.\n",
    "\n",
    "For example, if you are only interested in finding out who watched movies in October, you could use a filter on the dates so only the records for movies watched in October are displayed. Then, you could check out the names of the people to figure out who watched movies in October. "
   ]
  },
  {
   "cell_type": "markdown",
   "id": "ce4b3805",
   "metadata": {},
   "source": [
    "## Sorting data in spreadsheets\n",
    "#### Sort sheet\n",
    "All of the data in a spreadsheet is sorted by the ranking of a specific sorted column  - data across rows is kept together\n",
    "\n",
    "#### Sort range\n",
    "Nothing else on the spreadsheet is rearragned besides the specified cells in a column\n",
    "\n",
    "#### Customized sort order\n",
    "When you sort data in a spreadsheet using multiple conditions"
   ]
  },
  {
   "cell_type": "markdown",
   "id": "1c2a40b8",
   "metadata": {},
   "source": [
    "## Sorting data using SQL\n",
    "Sorting the data you return in your queries is a crucial tool for analyzing and understanding data.\n",
    "\n",
    "You can also answer business questions by sorting the dataset according to a given metric. For instance, a store may want to know which products they sell the most or least. Sorting helps you answer business questions that involve phrases such as “how much,” “how many,” “best,” or “worst”—which will be a valuable skill in your career as a data analyst."
   ]
  }
 ],
 "metadata": {
  "kernelspec": {
   "display_name": "Python 3 (ipykernel)",
   "language": "python",
   "name": "python3"
  },
  "language_info": {
   "codemirror_mode": {
    "name": "ipython",
    "version": 3
   },
   "file_extension": ".py",
   "mimetype": "text/x-python",
   "name": "python",
   "nbconvert_exporter": "python",
   "pygments_lexer": "ipython3",
   "version": "3.9.12"
  }
 },
 "nbformat": 4,
 "nbformat_minor": 5
}
