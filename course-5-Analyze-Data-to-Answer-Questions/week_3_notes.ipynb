{
 "cells": [
  {
   "cell_type": "markdown",
   "id": "00d661d2",
   "metadata": {},
   "source": [
    "## Aggregate data for analysis\n",
    "#### Data aggregation\n",
    "The process of gathering data from multiple sources in order to combine it into a single summarized collection\n",
    "\n",
    "- Identify trends\n",
    "- Make comparisons\n",
    "- Gain insights\n",
    "\n",
    "Data can also be aggregated over a given time period to provie statistics\n",
    "\n",
    "Functions help make data aggregation possible"
   ]
  },
  {
   "cell_type": "markdown",
   "id": "1aa63598",
   "metadata": {},
   "source": [
    "#### VLOOKUP (Vertical Lookup)\n",
    "A function that searches for a certain values in a column to return a corresponding piece of information\n",
    "#### = VLOOKUP(103, A2:B26, 2, FALSE) (search value, range, columnindex, find the exact match)\n",
    "\n",
    "#### VALUE\n",
    "A function that converts a text string that represents a number to a numerical value\n",
    "\n",
    "#### Remove duplicates\n",
    "A tool that automatically searches for duplicate and eliminate entries from a spreadsheet"
   ]
  }
 ],
 "metadata": {
  "kernelspec": {
   "display_name": "Python 3 (ipykernel)",
   "language": "python",
   "name": "python3"
  },
  "language_info": {
   "codemirror_mode": {
    "name": "ipython",
    "version": 3
   },
   "file_extension": ".py",
   "mimetype": "text/x-python",
   "name": "python",
   "nbconvert_exporter": "python",
   "pygments_lexer": "ipython3",
   "version": "3.9.12"
  }
 },
 "nbformat": 4,
 "nbformat_minor": 5
}
