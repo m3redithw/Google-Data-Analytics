{
 "cells": [
  {
   "cell_type": "markdown",
   "id": "6a0afa0f",
   "metadata": {},
   "source": [
    "## Common calculation formulas\n",
    "#### =SUM(cell1, cell2)\n",
    "\n",
    "#### =AVERAGE(cell1: cell2)\n",
    "\n",
    "#### =MIN(cell1: cell2)\n",
    "\n",
    "#### =MAX(cell1: cell2)"
   ]
  },
  {
   "cell_type": "markdown",
   "id": "8ca742dd",
   "metadata": {},
   "source": [
    "## Functions and conditions\n",
    "#### =COUNTIF(range, \"value\")\n",
    "\n",
    "#### =SUMIF(range, criteria/condition, [sum_range])\n",
    "A function taht adds numeric data based on one condition\n",
    "\n",
    "#### =MAXIFS(max_range, range1, criteria1, [range2], [criteria2], ...)"
   ]
  },
  {
   "cell_type": "markdown",
   "id": "160e5004",
   "metadata": {},
   "source": [
    "## Compostie functions\n",
    "#### =SUMPRODUCT(array1, [array2]...)\n",
    "A function that multiplies arrays and returns the sum of those products\n",
    "\n",
    "#### Array\n",
    "A collection of values in cells\n",
    "\n",
    "#### Profit margin\n",
    "A percentage that indicates how many cents of profit has been generated for each dollar of sale"
   ]
  },
  {
   "cell_type": "markdown",
   "id": "91d5f06a",
   "metadata": {},
   "source": [
    "## Working with pivot tables\n",
    "#### Pivot tables\n",
    "Let you view data in multiple ways to find insights and trends \n",
    "\n",
    "#### Calculated field\n",
    "A new field within a pivot table that carries out certain calculations based on the values of other fields        "
   ]
  },
  {
   "cell_type": "markdown",
   "id": "b3c5d626",
   "metadata": {},
   "source": [
    "## Check and rechek\n",
    "#### Data validation process\n",
    "Checking and rechecking the quality of your data so that it is complete, accurate, secure and consistent\n",
    "\n",
    "The data validation process is a form of data cleaning."
   ]
  },
  {
   "cell_type": "markdown",
   "id": "9b1384c9",
   "metadata": {},
   "source": [
    "## Types of data validation\n",
    "The first five are validation types associated with the data (type, range, constraint, consistency, and structure) and the sixth type focuses on the validation of application code used to accept data from user input. \n",
    "\n",
    "Data validation helps to ensure the integrity of data. It also gives you confidence that the data you are using is clean. The following list outlines six types of data validation and the purpose of each, and includes examples and limitations.\n",
    "\n",
    "#### 1. Data type\n",
    "- **Purpose**: Check that the data matches the data type defined for a field.\n",
    "\n",
    "- **Example**: Data values for school grades 1-12 must be a numeric data type.\n",
    "\n",
    "- **Limitations**: The data value 13 would pass the data type validation but would be an unacceptable value. For this case, data range validation is also needed.\n",
    "\n",
    "#### 2. Data range\n",
    "- **Purpose**: Check that the data falls within an acceptable range of values defined for the field.\n",
    "\n",
    "- **Example**: Data values for school grades should be values between 1 and 12.\n",
    "\n",
    "- **Limitations**: The data value 11.5 would be in the data range and would also pass as a numeric data type. But, it would be unacceptable because there aren't half grades. For this case, data constraint validation is also needed.\n",
    "\n",
    "#### 3. Data constraints\n",
    "- **Purpose**: Check that the data meets certain conditions or criteria for a field. This includes the type of data entered as well as other attributes of the field, such as number of characters. \n",
    "\n",
    "- **Example**: Content constraint: Data values for school grades 1-12 must be whole numbers. \n",
    "\n",
    "- **Limitations**: The data value 13 is a whole number and would pass the content constraint validation. But, it would be unacceptable since 13 isn’t a recognized school grade. For this case, data range validation is also needed.\n",
    "\n",
    "#### 4. Data consistency\n",
    "- **Purpose**: Check that the data makes sense in the context of other related data.\n",
    "\n",
    "- **Example**: Data values for product shipping dates can’t be earlier than product production dates.\n",
    "\n",
    "- **Limitations**: Data might be consistent but still incorrect or inaccurate. A shipping date could be later than a production date and still be wrong.\n",
    "\n",
    "#### 5. Data structure\n",
    "- **Purpose**: Check that the data follows or conforms to a set structure.\n",
    "\n",
    "- **Example**: Web pages must follow a prescribed structure to be displayed properly.\n",
    "\n",
    "- **Limitations**: A data structure might be correct with the data still incorrect or inaccurate. Content on a web page could be displayed properly and still contain the wrong information.\n",
    "\n",
    "#### 6. Code validation\n",
    "- **Purpose**: Check that the application code systematically performs any of the previously mentioned validations during user data input. \n",
    "\n",
    "- **Example**: Common problems discovered during code validation include: more than one data type allowed, data range checking not done, or ending of text strings not well defined.\n",
    "\n",
    "- **Limitations**: Code validation might not validate all possible variations with data input."
   ]
  },
  {
   "cell_type": "markdown",
   "id": "2a7299b9",
   "metadata": {},
   "source": [
    "## Temporary SQL tables\n",
    "Temporary tables are extremely helpful for complex calculations and queries. \n",
    "\n",
    "By using a temporary table, you were able to answer a more complex question and not make any changes to a primary table in the database. You used a JOIN to find something specific from the original dataset. Going forward, you can be creative with your use of temp tables to find complicated answers to real-world questions."
   ]
  }
 ],
 "metadata": {
  "kernelspec": {
   "display_name": "Python 3 (ipykernel)",
   "language": "python",
   "name": "python3"
  },
  "language_info": {
   "codemirror_mode": {
    "name": "ipython",
    "version": 3
   },
   "file_extension": ".py",
   "mimetype": "text/x-python",
   "name": "python",
   "nbconvert_exporter": "python",
   "pygments_lexer": "ipython3",
   "version": "3.9.12"
  }
 },
 "nbformat": 4,
 "nbformat_minor": 5
}
