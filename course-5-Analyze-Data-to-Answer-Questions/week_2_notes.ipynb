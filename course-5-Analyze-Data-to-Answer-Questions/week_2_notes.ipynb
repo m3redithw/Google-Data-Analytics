{
 "cells": [
  {
   "cell_type": "markdown",
   "id": "2181f005",
   "metadata": {},
   "source": [
    "## From one type to another\n",
    "#### Incorrectly formatted data can:\n",
    "- Lead to mistakes\n",
    "- Take time to fix\n",
    "- Affect stakeholder's decision-making\n",
    "\n",
    "#### = CONVERT(cell, \"currentvalue\", \"desirevalue\")"
   ]
  },
  {
   "cell_type": "markdown",
   "id": "3cd8f2c3",
   "metadata": {},
   "source": [
    "## Converting data in spreadsheets\n",
    "#### Strint to date\n",
    "- [How to convert text to date in Excel](https://www.ablebits.com/office-addins-blog/2015/03/26/excel-convert-text-date/#:~:text=Excel%20DATEVALUE%20function%20%2D%20change%20text,Excel%20recognizes%20as%20a%20date.&text=So%2C%20the%20formula%20to%20convert,stored%20as%20a%20text%20string.)\n",
    "\n",
    "- [Google Sheets: Change date format](https://www.ablebits.com/office-addins-blog/google-sheets-change-date-format/)\n",
    "\n",
    "#### String to numbers\n",
    "- [How to convert text to number in Excel](https://www.ablebits.com/office-addins-blog/2018/07/18/excel-convert-text-to-number/)\n",
    "\n",
    "- [How to convert text to numbers in Goolge Sheets](https://productivityspot.com/convert-text-to-numbers-google-sheets/)\n",
    "\n",
    "#### Combining columns\n",
    "- [Convert text from two or more cells](https://support.microsoft.com/en-us/office/combine-text-from-two-or-more-cells-into-one-cell-81ba0946-ce78-42ed-b3c3-21340eb164a6)\n",
    "\n",
    "- [How to split or combine cells in Google Sheets](https://www.techrepublic.com/videos/how-to-split-or-combine-text-cells-with-google-sheets/)\n",
    "\n",
    "#### Number to percentage\n",
    "- [Format numbers as percentages](https://support.microsoft.com/en-us/office/format-numbers-as-percentages-de49167b-d603-4450-bcaa-31fba6c7b6b4)\n",
    "\n",
    "- [TO PERCENT](https://support.google.com/docs/answer/3094284?hl=en)"
   ]
  },
  {
   "cell_type": "markdown",
   "id": "863354de",
   "metadata": {},
   "source": [
    "## Data validation\n",
    "Allows you to control what can and can't be entered in your worksheet\n",
    "\n",
    "- Add dropdown lists with predetermined options (data -> data validation -> list from a range)\n",
    "- Create custom checkboxes (data -> data validation -> checkbox -> custom cell values)\n",
    "- Protect structured data and formulas (data -> data validation -> reject input)"
   ]
  },
  {
   "cell_type": "markdown",
   "id": "b18da008",
   "metadata": {},
   "source": [
    "## Conditional formatting\n",
    "A spreadsheet tool that changes how cells appear when values meet specific conditions (format -> conditional formatting -> apply to range -> format rules -> formatting styles)"
   ]
  },
  {
   "cell_type": "markdown",
   "id": "16b97946",
   "metadata": {},
   "source": [
    "## Strings in spreadsheets\n",
    "- LEN\n",
    "- LEFT\n",
    "- RIGHT\n",
    "- FIND (case sensitive)"
   ]
  }
 ],
 "metadata": {
  "kernelspec": {
   "display_name": "Python 3 (ipykernel)",
   "language": "python",
   "name": "python3"
  },
  "language_info": {
   "codemirror_mode": {
    "name": "ipython",
    "version": 3
   },
   "file_extension": ".py",
   "mimetype": "text/x-python",
   "name": "python",
   "nbconvert_exporter": "python",
   "pygments_lexer": "ipython3",
   "version": "3.9.12"
  }
 },
 "nbformat": 4,
 "nbformat_minor": 5
}
