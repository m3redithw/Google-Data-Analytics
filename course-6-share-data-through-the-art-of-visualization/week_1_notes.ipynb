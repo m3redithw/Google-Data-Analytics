{
 "cells": [
  {
   "cell_type": "markdown",
   "id": "ccbba2a1",
   "metadata": {},
   "source": [
    "## Why data visualization matters\n",
    "#### Data visualization\n",
    "The graphic representation and presentation of data\n",
    "\n",
    "1. Looking at visuals in order to understand and draw conclusions about data\n",
    "2. Creating visuals using raw data to tell a story\n",
    "\n",
    "## Effective data visualiztions\n",
    "1. The McCandless Method\n",
    "![What Makes a Good Visualization](https://community.yellowfinbi.com/public/attachments/3339128fa8be5b9b456649b2b2d80c74.png)\n",
    "\n",
    "2. [Kaiser Fung's Junk Charts Trifecta Checkup](https://junkcharts.typepad.com/junk_charts/junk-charts-trifecta-checkup-the-definitive-guide.html)\n",
    "\n",
    "### Pre-attentive attributes: marks and channels\n",
    "Creating effective visuals means leveraging what we know about how the brain works, and then using specific visual elements to communicate the information effectively. **Pre-attentive** attributes are the elements of a data visualization that people recognize automatically without conscious effort. The essential, basic building blocks that make visuals immediately understandable are called marks and channels. \n",
    "\n",
    "**Marks** are basic visual objects like points, lines, and shapes. Every mark can be broken down into four qualities:\n",
    "    \n",
    "    1. Position - Where a specific mark is in relation to a scale or to other marks\n",
    "    2. Size - How big, small, long, or tall a mark is\n",
    "    3. Shape - Whether a specific object is given a shape that communicates soemthing about it\n",
    "    4. Color - What color the mark is\n",
    "\n",
    "\n",
    "**Channels** are visual aspects or variables that represent characteristics of the data. Channels are basically marks that have been used to visualize data. Channels will vary in terms of how effective they are at communicating data based on three elements: \n",
    "\n",
    "    1. Accuracy - Are the channels helpful in accurately estimating the values being represented?\n",
    "    2. Popout - How easy is ti to distinguish certian values from others?\n",
    "    3. Grouping - How good is a channel at communicating groups that exist in the data?\n",
    "\n",
    "### Design principles\n",
    "**Choose the right visual**\n",
    "One of the first things you have to decide is which visual will be the most effective for your audience. Sometimes, a simple table is the best visualization. Other times, you need a more complex visualization to illustrate your point. \n",
    "\n",
    "**Optimize the data-ink ratio**\n",
    "The data-ink entails focusing on the part of the visual that is essential to understanding the point of the chart. Try to minimize non-data ink like boxes around legends or shadows to optimize the data-ink ratio.\n",
    "\n",
    "**Use orientation effectively**\n",
    "Make sure the written components of the visual, like the labels on a bar chart, are easy to read. You can change the orientation of your visual to make it easier to read and understand. \n",
    "\n",
    "**Color**\n",
    "There are a lot of important considerations when thinking about using color in your visuals. These include using color consciously and meaningfully, staying consistent throughout your visuals, being considerate of what colors mean to different people, and using inclusive color scales that make sense for everyone viewing them.\n",
    "\n",
    "**Numbers of things**\n",
    "Think about how many elements you include in any visual. If your visualization uses lines, try to plot five or fewer. If that isn’t possible, use color or hue to emphasize important lines. Also, when using visuals like pie charts, try to keep the number of segments to less than seven since too many elements can be distracting.\n",
    "\n",
    "### Avoiding misleading or deceptive charts\n",
    "**Cutting off the y-axis**\n",
    "Changing the scale on the y-axis can make the differences between different groups in your data seem more dramatic, even if the difference is actually quite small. \n",
    "\n",
    "**Misleading use of a dual y-axis**\n",
    "Using a dual y-axis without clearly labeling it in your data visualization can create extremely misleading charts. \n",
    "\n",
    "**Artificially limiting the scope of the data**\n",
    "If you only consider the part of the data that confirms your analysis, your visualizations will be misleading because they don’t take all of the data into account. \n",
    "\n",
    "**Problematic choices in how data is binned or grouped**\n",
    "It is important to make sure that the way you are grouping data isn’t misleading or misrepresenting your data and disguising important trends and insights. \n",
    "\n",
    "**Using part-to-whole visuals when the totals do not sum up appropriately**\n",
    "If you are using a part-to-whole visual like a pie chart to explain your data, the individual parts should add up to equal 100%. If they don’t, your data visualization will be misleading.\n",
    "\n",
    "**Hiding trends in cumulative charts**\n",
    "Creating a cumulative chart can disguise more insightful trends by making the scale of the visualization too large to track any changes over time. \n",
    "\n",
    "**Artificially smoothing trends**\n",
    "Adding smooth trend lines between points in a scatter plot can make it easier to read that plot, but replacing the points with just the line can actually make it appear that the point is more connected over time than it actually was. "
   ]
  },
  {
   "cell_type": "code",
   "execution_count": null,
   "id": "5f974c82",
   "metadata": {},
   "outputs": [],
   "source": []
  },
  {
   "cell_type": "code",
   "execution_count": null,
   "id": "5df5bbe5",
   "metadata": {},
   "outputs": [],
   "source": []
  },
  {
   "cell_type": "code",
   "execution_count": null,
   "id": "0c57d506",
   "metadata": {},
   "outputs": [],
   "source": []
  },
  {
   "cell_type": "code",
   "execution_count": null,
   "id": "e53b327b",
   "metadata": {},
   "outputs": [],
   "source": []
  },
  {
   "cell_type": "code",
   "execution_count": null,
   "id": "acb630d9",
   "metadata": {},
   "outputs": [],
   "source": []
  },
  {
   "cell_type": "code",
   "execution_count": null,
   "id": "59adb976",
   "metadata": {},
   "outputs": [],
   "source": []
  },
  {
   "cell_type": "code",
   "execution_count": null,
   "id": "9f8b3d40",
   "metadata": {},
   "outputs": [],
   "source": []
  }
 ],
 "metadata": {
  "kernelspec": {
   "display_name": "Python 3 (ipykernel)",
   "language": "python",
   "name": "python3"
  },
  "language_info": {
   "codemirror_mode": {
    "name": "ipython",
    "version": 3
   },
   "file_extension": ".py",
   "mimetype": "text/x-python",
   "name": "python",
   "nbconvert_exporter": "python",
   "pygments_lexer": "ipython3",
   "version": "3.9.12"
  }
 },
 "nbformat": 4,
 "nbformat_minor": 5
}
