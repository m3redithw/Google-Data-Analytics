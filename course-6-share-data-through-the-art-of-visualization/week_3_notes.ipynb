{
 "cells": [
  {
   "cell_type": "markdown",
   "id": "32a4bfc1",
   "metadata": {},
   "source": [
    "##  Storytelling with data\n",
    "#### Data visualization\n",
    "The representation and presentation of data to help with understanding\n",
    "\n",
    "#### Dashboard\n",
    "A tool that organizes information from multiple datasets into one central location for tracking, analysis, and simple visualization\n",
    "\n",
    "#### Dashboard filter\n",
    "A tool for showing only the data that meets specific criteria while hiding the rest"
   ]
  },
  {
   "cell_type": "markdown",
   "id": "8ac46704",
   "metadata": {},
   "source": [
    "## Bringing ideas to life\n",
    "#### Data storytelling\n",
    "Communicating the meaning of a dataset with visuals and a narrative that are customized for each particular audience\n",
    "\n",
    "#### 3 data storytelling steps\n",
    "1. Engage your audience\n",
    "\n",
    "    **Engagement**: Capturing and holding someone's interest and attention\n",
    "    \n",
    "    \n",
    "2. Create compelling visuals\n",
    "\n",
    "\n",
    "3. Tell the story in an interesting narrative\n"
   ]
  },
  {
   "cell_type": "markdown",
   "id": "4ad0ff0b",
   "metadata": {},
   "source": [
    "## Speaking to your audience\n",
    "- What role does this audience play?\n",
    "- What is their stake in the project?\n",
    "- What do they hope to get from the data insights I deliver?\n",
    "\n",
    "#### Spotlighting\n",
    "Scanning through data to quickly identify the most important insights"
   ]
  },
  {
   "cell_type": "markdown",
   "id": "19a2dcb4",
   "metadata": {},
   "source": [
    "## Live and static insights\n",
    "Identifying whether data is live or static depends on certain factors:\n",
    "\n",
    "- How old is the data?\n",
    "\n",
    "- How long until the insights are stale or no longer valid to make decisions?\n",
    "\n",
    "- Does this data or analysis need updating on a regular basis to remain valuable?\n",
    "\n",
    "**`Static data`** involves providing screenshots or snapshots in presentations or building dashboards using snapshots of data. There are pros and cons to static data.\n",
    "\n",
    "**PROS**\n",
    "- Can tightly control a point-in-time narrative of the data and insight\n",
    "\n",
    "- Allows for complex analysis to be explained in-depth to a larger audience\n",
    "\n",
    "**CONS**\n",
    "- Insight immediately begins to lose value and continues to do so the longer the data remains in a static state\n",
    "\n",
    "- Snapshots can't keep up with the pace of data change\n",
    "\n",
    "**`Live data`** means that you can build dashboards, reports, and views connected to automatically updated data. \n",
    "\n",
    "**PROS**\n",
    "- Dashboards can be built to be more dynamic and scalable\n",
    "\n",
    "- Gives the most up-to-date data to the people who need it at the time when they need it\n",
    "\n",
    "- Allows for up-to-date curated views into data with the ability to build a scalable “single source of truth” for various use cases\n",
    "\n",
    "- Allows for immediate action to be taken on data that changes frequently\n",
    "\n",
    "- Alleviates time/resources spent on processes for every analysis\n",
    "\n",
    "**CONS**\n",
    "- Can take engineering resources to keep pipelines live and scalable, which may be outside the scope of some companies' data resource allocation\n",
    "\n",
    "- Without the ability to interpret data, you can lose control of the narrative, which can cause data chaos (i.e. teams coming to conflicting conclusions based on the same data)\n",
    "\n",
    "- Can potentially cause a lack of trust if the data isn’t handled properly"
   ]
  },
  {
   "cell_type": "markdown",
   "id": "13d63aa7",
   "metadata": {},
   "source": [
    "## From filters to charts\n",
    "The spreadsheet chart editor is a simple and convenient way to visualize data. Beyond that, consider the following:\n",
    "\n",
    "Data analysts use spreadsheets for a variety of data analysis tasks, including creating charts. What you’ve learned about visualizations in spreadsheets you can apply to dashboard visualizations. In upcoming activities, you will use this knowledge in Tableau, another data visualization platform. This will help you practice more data visualizations—an essential tool in every data analyst’s toolkit."
   ]
  },
  {
   "cell_type": "markdown",
   "id": "976df4f8",
   "metadata": {},
   "source": [
    "## Compelling presentation\n",
    "- Characters\n",
    "- Setting\n",
    "- Plot\n",
    "- Big reveal\n",
    "- Aha moment\n",
    "\n",
    "## Evaluating your presentation\n",
    "Do you:\n",
    "\n",
    "- Use an attention-grabbing opening?\n",
    "\n",
    "- Start with broad ideas and later talk about specific details?\n",
    "\n",
    "- Speak in short sentences?\n",
    "\n",
    "- Pause for five seconds after showing a data visualization?\n",
    "\n",
    "- Pause intentionally at certain points?\n",
    "\n",
    "- Keep the pitch of your voice level?\n",
    "\n",
    "- Stand still and move with purpose?\n",
    "\n",
    "- Maintain good posture?\n",
    "\n",
    "- Look at your audience (or camera) while speaking?\n",
    "\n",
    "- Keep your message concise?\n",
    "\n",
    "- End by explaining why the data analysis matters?\n",
    "\n",
    "## Evaluate your slide deck\n",
    "Do you:\n",
    "\n",
    "- Include a good title and subtitle that describe what you’re about to present?\n",
    "\n",
    "- Include the date of your presentation or the date when your slideshow was last updated?\n",
    "\n",
    "- Use a font size that lets the audience easily read your slides?\n",
    "\n",
    "- Showcase what business metrics you used?\n",
    "\n",
    "- Include effective visuals (like charts and graphs)?\n"
   ]
  }
 ],
 "metadata": {
  "kernelspec": {
   "display_name": "Python 3 (ipykernel)",
   "language": "python",
   "name": "python3"
  },
  "language_info": {
   "codemirror_mode": {
    "name": "ipython",
    "version": 3
   },
   "file_extension": ".py",
   "mimetype": "text/x-python",
   "name": "python",
   "nbconvert_exporter": "python",
   "pygments_lexer": "ipython3",
   "version": "3.9.12"
  }
 },
 "nbformat": 4,
 "nbformat_minor": 5
}
